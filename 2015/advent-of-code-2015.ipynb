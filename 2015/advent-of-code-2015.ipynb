{
 "metadata": {
  "language_info": {
   "codemirror_mode": {
    "name": "ipython",
    "version": 3
   },
   "file_extension": ".py",
   "mimetype": "text/x-python",
   "name": "python",
   "nbconvert_exporter": "python",
   "pygments_lexer": "ipython3",
   "version": "3.8.3-final"
  },
  "orig_nbformat": 2,
  "kernelspec": {
   "name": "python3",
   "display_name": "Python 3",
   "language": "python"
  }
 },
 "nbformat": 4,
 "nbformat_minor": 2,
 "cells": [
  {
   "source": [
    "# Advent of Code 2015 \n",
    "\n"
   ],
   "cell_type": "markdown",
   "metadata": {}
  },
  {
   "source": [],
   "cell_type": "markdown",
   "metadata": {}
  },
  {
   "cell_type": "code",
   "execution_count": 64,
   "metadata": {},
   "outputs": [],
   "source": [
    "from typing import List\n",
    "from operator import add"
   ]
  },
  {
   "cell_type": "code",
   "execution_count": 63,
   "metadata": {},
   "outputs": [],
   "source": [
    "from itertools import accumulate"
   ]
  },
  {
   "cell_type": "code",
   "execution_count": 102,
   "metadata": {},
   "outputs": [],
   "source": [
    "# Unashamedly stolen from Peter Norvig's Pytudes 2020\n",
    "\n",
    "def data(day: int, parser=str) -> list:\n",
    "    \"Split the day's input file into sections separated by `sep`, and apply `parser` to each.\"\n",
    "    with open(f\"data/day_{day}.txt\") as f:\n",
    "        data = f.read().rstrip()\n",
    "        return parser(data)\n",
    "\n",
    "def first(iterable, predicate, default = None):\n",
    "    \"\"\"\n",
    "    Return the first item in iterable that satisfies predicate or \n",
    "    default if no item satisfies predicate.\n",
    "    \"\"\"\n",
    "    return next((x for x in iterable if predicate(x)), default)\n",
    "\n",
    "def first_pos(iterable, predicate, default = None):\n",
    "    \"\"\"\n",
    "    Return a tuple of the first index and item `(i, x)` in an iterable that satisfies \n",
    "    predicate or default if no item satisfies predicate. \n",
    "    \"\"\"\n",
    "    return next(((i, x) for i, x in enumerate(iterable) if predicate(x)))"
   ]
  },
  {
   "cell_type": "code",
   "execution_count": 103,
   "metadata": {},
   "outputs": [
    {
     "output_type": "execute_result",
     "data": {
      "text/plain": [
       "(11, -1)"
      ]
     },
     "metadata": {},
     "execution_count": 103
    }
   ],
   "source": [
    "floors = [1, 2, 1, 2, 3, 4, 5, 4, 3, 2, 1, -1]\n",
    "first_pos(floors, lambda x: x == -1)"
   ]
  },
  {
   "source": [
    "## Day 1: Not Quite Lisp"
   ],
   "cell_type": "markdown",
   "metadata": {}
  },
  {
   "cell_type": "code",
   "execution_count": 24,
   "metadata": {},
   "outputs": [],
   "source": [
    "Direction = int\n",
    "\n",
    "def bracket_to_direction(bracket: str) -> Direction:\n",
    "    if bracket == \"(\":\n",
    "        return 1\n",
    "    else:\n",
    "        return -1\n",
    "\n",
    "\n",
    "def parse_directions(line: str) -> List[Direction]:\n",
    "    \"Parse string of roundy brackets into a list of directions\"\n",
    "    return [bracket_to_direction(x) for x in line]"
   ]
  },
  {
   "cell_type": "code",
   "execution_count": 88,
   "metadata": {},
   "outputs": [
    {
     "output_type": "execute_result",
     "data": {
      "text/plain": [
       "138"
      ]
     },
     "metadata": {},
     "execution_count": 88
    }
   ],
   "source": [
    "# Which floor does Santa end up on?\n",
    "directions = data(1, parse_directions)\n",
    "sum(directions)"
   ]
  },
  {
   "cell_type": "code",
   "execution_count": 109,
   "metadata": {},
   "outputs": [
    {
     "output_type": "stream",
     "name": "stdout",
     "text": [
      "1771 -1\n"
     ]
    }
   ],
   "source": [
    "# Position of first character that causes him to enter the basement (floor -1)?\n",
    "floors = accumulate(directions, add)\n",
    "i, v = first_pos(floors, lambda x: x == -1)\n",
    "# position is index + 1\n",
    "print(i + 1, v)"
   ]
  },
  {
   "cell_type": "code",
   "execution_count": null,
   "metadata": {},
   "outputs": [],
   "source": []
  }
 ]
}