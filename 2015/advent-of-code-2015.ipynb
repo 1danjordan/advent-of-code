{
 "metadata": {
  "language_info": {
   "codemirror_mode": {
    "name": "ipython",
    "version": 3
   },
   "file_extension": ".py",
   "mimetype": "text/x-python",
   "name": "python",
   "nbconvert_exporter": "python",
   "pygments_lexer": "ipython3",
   "version": "3.8.3-final"
  },
  "orig_nbformat": 2,
  "kernelspec": {
   "name": "python3",
   "display_name": "Python 3",
   "language": "python"
  }
 },
 "nbformat": 4,
 "nbformat_minor": 2,
 "cells": [
  {
   "source": [
    "# Advent of Code 2015 \n",
    "\n"
   ],
   "cell_type": "markdown",
   "metadata": {}
  },
  {
   "cell_type": "code",
   "execution_count": 17,
   "metadata": {},
   "outputs": [],
   "source": [
    "from typing import List, Tuple\n",
    "from operator import add\n",
    "from itertools import accumulate, tee"
   ]
  },
  {
   "source": [
    "Some helper functions to make life a bit easier "
   ],
   "cell_type": "markdown",
   "metadata": {}
  },
  {
   "cell_type": "code",
   "execution_count": 3,
   "metadata": {},
   "outputs": [],
   "source": [
    "# Unashamedly stolen and adapted from Peter Norvig's Pytudes 2020\n",
    "def data(day: int, parser=str, sep='\\n') -> list:\n",
    "    \"Split the day's input file into sections separated by `sep`, and apply `parser` to each.\"\n",
    "    with open(f'data/day_{day}.txt') as f:\n",
    "        sections = f.read().rstrip().split(sep)\n",
    "        return list(map(parser, sections))\n",
    "\n",
    "def first(iterable, predicate, default = None):\n",
    "    \"\"\"\n",
    "    Return the first item in `iterable` that satisfies `predicate` or \n",
    "    return `default` if no item satisfies `predicate`.\n",
    "    \"\"\"\n",
    "    return next((x for x in iterable if predicate(x)), default)\n",
    "\n",
    "def first_pos(iterable, predicate, default = None):\n",
    "    \"\"\"\n",
    "    Return a tuple of the first index and item `(i, x)` in `iterable` that satisfies \n",
    "    `predicate` or `default` if no item satisfies `predicate`. \n",
    "    \"\"\"\n",
    "    return next(((i, x) for i, x in enumerate(iterable) if predicate(x)), (None, default))"
   ]
  },
  {
   "source": [
    "## Day 1: Not Quite Lisp"
   ],
   "cell_type": "markdown",
   "metadata": {}
  },
  {
   "cell_type": "code",
   "execution_count": 69,
   "metadata": {},
   "outputs": [],
   "source": [
    "Direction = int\n",
    "\n",
    "def bracket_to_direction(bracket: str) -> Direction:\n",
    "    if bracket == \"(\":\n",
    "        return 1\n",
    "    else:\n",
    "        return -1\n",
    "\n",
    "def parse_directions(brackets: str) -> List[Direction]:\n",
    "    \"Parse string of roundy brackets into a list of directions\"\n",
    "    return [bracket_to_direction(x) for x in brackets]"
   ]
  },
  {
   "cell_type": "code",
   "execution_count": 72,
   "metadata": {},
   "outputs": [
    {
     "output_type": "execute_result",
     "data": {
      "text/plain": [
       "138"
      ]
     },
     "metadata": {},
     "execution_count": 72
    }
   ],
   "source": [
    "# Which floor does Santa end up on?\n",
    "directions = data(1, parse_directions)[0]\n",
    "sum(directions)"
   ]
  },
  {
   "cell_type": "code",
   "execution_count": 73,
   "metadata": {},
   "outputs": [
    {
     "output_type": "stream",
     "name": "stdout",
     "text": [
      "1771 -1\n"
     ]
    }
   ],
   "source": [
    "# Position of first character that causes him to enter the basement (floor -1)?\n",
    "floors = accumulate(directions, add)\n",
    "i, v = first_pos(floors, lambda x: x == -1)\n",
    "# position is index + 1\n",
    "print(i + 1, v)"
   ]
  },
  {
   "source": [
    "## Day 2: I Was Told There Would Be No Math"
   ],
   "cell_type": "markdown",
   "metadata": {}
  },
  {
   "cell_type": "code",
   "execution_count": 66,
   "metadata": {},
   "outputs": [],
   "source": [
    "Measurement = Tuple[int, int, int]\n",
    "Area = int\n",
    "Length = int\n",
    "\n",
    "def parse_measurement(line: str) -> Measurement:\n",
    "    l, w, h = line.split(\"x\")\n",
    "    return int(l), int(w), int(h)\n",
    "\n",
    "def surface_area(m: Measurement) -> Area:\n",
    "    l, w, h = m\n",
    "    return 2*l*w + 2*w*h + 2*h*l\n",
    "\n",
    "def smallest_side(m: Measurement) -> Area:\n",
    "    s1, s2, _ = sorted(m)\n",
    "    return s1 * s2\n",
    "\n",
    "def total_wrapping(m: Measurement) -> Area:\n",
    "    return surface_area(m) + smallest_side(m)\n",
    "\n",
    "def ribbon_length(m: Measurement) -> Length:\n",
    "    s1, s2, _ = sorted(m)\n",
    "    return 2*s1 + 2*s2\n",
    "\n",
    "def bow_length(m: Measurement) -> Length:\n",
    "    l, w, h = m\n",
    "    return l * w * h\n",
    "\n",
    "def total_ribbon(m: Measurement) -> Length:\n",
    "    return ribbon_length(m) + bow_length(m)"
   ]
  },
  {
   "cell_type": "code",
   "execution_count": 74,
   "metadata": {},
   "outputs": [
    {
     "output_type": "execute_result",
     "data": {
      "text/plain": [
       "[(4, 23, 21), (22, 29, 19), (11, 4, 11), (8, 10, 5), (24, 18, 16)]"
      ]
     },
     "metadata": {},
     "execution_count": 74
    }
   ],
   "source": [
    "measurements = data(2, parse_measurement)\n",
    "measurements[:5]"
   ]
  },
  {
   "cell_type": "code",
   "execution_count": 75,
   "metadata": {},
   "outputs": [
    {
     "output_type": "execute_result",
     "data": {
      "text/plain": [
       "1598415"
      ]
     },
     "metadata": {},
     "execution_count": 75
    }
   ],
   "source": [
    "sum(total_wrapping(m) for m in measurements)"
   ]
  },
  {
   "cell_type": "code",
   "execution_count": 76,
   "metadata": {},
   "outputs": [
    {
     "output_type": "execute_result",
     "data": {
      "text/plain": [
       "3812909"
      ]
     },
     "metadata": {},
     "execution_count": 76
    }
   ],
   "source": [
    "sum(total_ribbon(m) for m in measurements)"
   ]
  },
  {
   "source": [
    "## Day 3: Perfectly Spherical Houses in a Vacuum"
   ],
   "cell_type": "markdown",
   "metadata": {}
  },
  {
   "cell_type": "code",
   "execution_count": 19,
   "metadata": {},
   "outputs": [],
   "source": [
    "# representing a step in either X or Y coordinates\n",
    "Direction = Tuple[int, int]\n",
    "Coordinate = Tuple[int, int]\n",
    "\n",
    "def parse_direction(line: str) -> List[Direction]:\n",
    "    \"Parse arrows into Directions\"\n",
    "    arrow_lookup = {\n",
    "        \"^\": (0, 1),\n",
    "        \">\": (1, 0),\n",
    "        \"v\": (0, -1),\n",
    "        \"<\": (-1, 0)\n",
    "    }\n",
    "    return [arrow_lookup[arrow] for arrow in line]\n",
    "\n",
    "def next_coord(coordinate: Coordinate, direction: Direction) -> Coordinate:\n",
    "    \"Given current coordinate and next direction return next coordinate\"\n",
    "    return tuple(map(add, coordinate, direction))\n",
    "\n",
    "def split_directions(directions: List[Direction]) -> Tuple[List[Direction], List[Direction]]:\n",
    "    \"Split a list of directions into two lists of directions\"\n",
    "    santa, robosanta = [], []\n",
    "    for i, direction in enumerate(directions):\n",
    "        if i % 2 == 0:\n",
    "            santa.append(direction)\n",
    "        else:\n",
    "            robosanta.append(direction)\n",
    "    return (santa, robosanta)\n"
   ]
  },
  {
   "cell_type": "code",
   "execution_count": 15,
   "metadata": {},
   "outputs": [],
   "source": [
    "start_coord = (0, 0)\n",
    "directions = data(3, parse_direction)[0]\n",
    "coords = list(accumulate(directions, next_coord, initial=start_coord))"
   ]
  },
  {
   "cell_type": "code",
   "execution_count": 16,
   "metadata": {},
   "outputs": [
    {
     "output_type": "execute_result",
     "data": {
      "text/plain": [
       "2565"
      ]
     },
     "metadata": {},
     "execution_count": 16
    }
   ],
   "source": [
    "len(set(coords))"
   ]
  },
  {
   "cell_type": "code",
   "execution_count": 22,
   "metadata": {},
   "outputs": [],
   "source": [
    "santa_directions, robo_directions = split_directions(directions)\n",
    "santa_coords = list(accumulate(santa_directions, next_coord, initial=start_coord))\n",
    "robo_coords = list(accumulate(robo_directions, next_coord, initial=start_coord))"
   ]
  },
  {
   "cell_type": "code",
   "execution_count": 23,
   "metadata": {},
   "outputs": [
    {
     "output_type": "execute_result",
     "data": {
      "text/plain": [
       "2639"
      ]
     },
     "metadata": {},
     "execution_count": 23
    }
   ],
   "source": [
    "len(set(santa_coords + robo_coords))"
   ]
  }
 ]
}